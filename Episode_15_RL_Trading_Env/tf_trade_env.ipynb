{
  "nbformat": 4,
  "nbformat_minor": 0,
  "metadata": {
    "language_info": {
      "codemirror_mode": {
        "name": "ipython",
        "version": 3
      },
      "file_extension": ".py",
      "mimetype": "text/x-python",
      "name": "python",
      "nbconvert_exporter": "python",
      "pygments_lexer": "ipython3",
      "version": "3.8.3-final"
    },
    "orig_nbformat": 2,
    "kernelspec": {
      "name": "python38364bittfagentconda787c574eaeca4ffb8bae432b3362c2e9",
      "display_name": "Python 3.8.3 64-bit ('tfagent': conda)"
    },
    "colab": {
      "name": "tf_trade_env.ipynb",
      "provenance": [],
      "include_colab_link": true
    }
  },
  "cells": [
    {
      "cell_type": "markdown",
      "metadata": {
        "id": "view-in-github",
        "colab_type": "text"
      },
      "source": [
        "<a href=\"https://colab.research.google.com/github/svenroed/notebooks/blob/master/Episode_15_RL_Trading_Env/tf_trade_env.ipynb\" target=\"_parent\"><img src=\"https://colab.research.google.com/assets/colab-badge.svg\" alt=\"Open In Colab\"/></a>"
      ]
    },
    {
      "cell_type": "code",
      "metadata": {
        "id": "vKGVo8HUX9M0",
        "outputId": "9f213eea-0066-465d-f1a1-aad56d7231be",
        "colab": {
          "base_uri": "https://localhost:8080/"
        }
      },
      "source": [
        "pip install tf-agents"
      ],
      "execution_count": 2,
      "outputs": [
        {
          "output_type": "stream",
          "text": [
            "Collecting tf-agents\n",
            "\u001b[?25l  Downloading https://files.pythonhosted.org/packages/e7/cd/a0710b1caae042b7a4d54fc74073fb4df7adf073934798443bdc0059813a/tf_agents-0.7.1-py3-none-any.whl (1.2MB)\n",
            "\r\u001b[K     |▎                               | 10kB 14.1MB/s eta 0:00:01\r\u001b[K     |▌                               | 20kB 19.8MB/s eta 0:00:01\r\u001b[K     |▉                               | 30kB 14.7MB/s eta 0:00:01\r\u001b[K     |█                               | 40kB 12.5MB/s eta 0:00:01\r\u001b[K     |█▍                              | 51kB 9.7MB/s eta 0:00:01\r\u001b[K     |█▋                              | 61kB 7.6MB/s eta 0:00:01\r\u001b[K     |██                              | 71kB 8.0MB/s eta 0:00:01\r\u001b[K     |██▏                             | 81kB 8.1MB/s eta 0:00:01\r\u001b[K     |██▍                             | 92kB 7.8MB/s eta 0:00:01\r\u001b[K     |██▊                             | 102kB 7.6MB/s eta 0:00:01\r\u001b[K     |███                             | 112kB 7.6MB/s eta 0:00:01\r\u001b[K     |███▎                            | 122kB 7.6MB/s eta 0:00:01\r\u001b[K     |███▌                            | 133kB 7.6MB/s eta 0:00:01\r\u001b[K     |███▉                            | 143kB 7.6MB/s eta 0:00:01\r\u001b[K     |████                            | 153kB 7.6MB/s eta 0:00:01\r\u001b[K     |████▎                           | 163kB 7.6MB/s eta 0:00:01\r\u001b[K     |████▋                           | 174kB 7.6MB/s eta 0:00:01\r\u001b[K     |████▉                           | 184kB 7.6MB/s eta 0:00:01\r\u001b[K     |█████▏                          | 194kB 7.6MB/s eta 0:00:01\r\u001b[K     |█████▍                          | 204kB 7.6MB/s eta 0:00:01\r\u001b[K     |█████▊                          | 215kB 7.6MB/s eta 0:00:01\r\u001b[K     |██████                          | 225kB 7.6MB/s eta 0:00:01\r\u001b[K     |██████▏                         | 235kB 7.6MB/s eta 0:00:01\r\u001b[K     |██████▌                         | 245kB 7.6MB/s eta 0:00:01\r\u001b[K     |██████▊                         | 256kB 7.6MB/s eta 0:00:01\r\u001b[K     |███████                         | 266kB 7.6MB/s eta 0:00:01\r\u001b[K     |███████▎                        | 276kB 7.6MB/s eta 0:00:01\r\u001b[K     |███████▋                        | 286kB 7.6MB/s eta 0:00:01\r\u001b[K     |███████▉                        | 296kB 7.6MB/s eta 0:00:01\r\u001b[K     |████████                        | 307kB 7.6MB/s eta 0:00:01\r\u001b[K     |████████▍                       | 317kB 7.6MB/s eta 0:00:01\r\u001b[K     |████████▋                       | 327kB 7.6MB/s eta 0:00:01\r\u001b[K     |█████████                       | 337kB 7.6MB/s eta 0:00:01\r\u001b[K     |█████████▏                      | 348kB 7.6MB/s eta 0:00:01\r\u001b[K     |█████████▌                      | 358kB 7.6MB/s eta 0:00:01\r\u001b[K     |█████████▊                      | 368kB 7.6MB/s eta 0:00:01\r\u001b[K     |██████████                      | 378kB 7.6MB/s eta 0:00:01\r\u001b[K     |██████████▎                     | 389kB 7.6MB/s eta 0:00:01\r\u001b[K     |██████████▌                     | 399kB 7.6MB/s eta 0:00:01\r\u001b[K     |██████████▉                     | 409kB 7.6MB/s eta 0:00:01\r\u001b[K     |███████████                     | 419kB 7.6MB/s eta 0:00:01\r\u001b[K     |███████████▍                    | 430kB 7.6MB/s eta 0:00:01\r\u001b[K     |███████████▋                    | 440kB 7.6MB/s eta 0:00:01\r\u001b[K     |███████████▉                    | 450kB 7.6MB/s eta 0:00:01\r\u001b[K     |████████████▏                   | 460kB 7.6MB/s eta 0:00:01\r\u001b[K     |████████████▍                   | 471kB 7.6MB/s eta 0:00:01\r\u001b[K     |████████████▊                   | 481kB 7.6MB/s eta 0:00:01\r\u001b[K     |█████████████                   | 491kB 7.6MB/s eta 0:00:01\r\u001b[K     |█████████████▎                  | 501kB 7.6MB/s eta 0:00:01\r\u001b[K     |█████████████▌                  | 512kB 7.6MB/s eta 0:00:01\r\u001b[K     |█████████████▊                  | 522kB 7.6MB/s eta 0:00:01\r\u001b[K     |██████████████                  | 532kB 7.6MB/s eta 0:00:01\r\u001b[K     |██████████████▎                 | 542kB 7.6MB/s eta 0:00:01\r\u001b[K     |██████████████▋                 | 552kB 7.6MB/s eta 0:00:01\r\u001b[K     |██████████████▉                 | 563kB 7.6MB/s eta 0:00:01\r\u001b[K     |███████████████▏                | 573kB 7.6MB/s eta 0:00:01\r\u001b[K     |███████████████▍                | 583kB 7.6MB/s eta 0:00:01\r\u001b[K     |███████████████▋                | 593kB 7.6MB/s eta 0:00:01\r\u001b[K     |████████████████                | 604kB 7.6MB/s eta 0:00:01\r\u001b[K     |████████████████▏               | 614kB 7.6MB/s eta 0:00:01\r\u001b[K     |████████████████▌               | 624kB 7.6MB/s eta 0:00:01\r\u001b[K     |████████████████▊               | 634kB 7.6MB/s eta 0:00:01\r\u001b[K     |█████████████████               | 645kB 7.6MB/s eta 0:00:01\r\u001b[K     |█████████████████▎              | 655kB 7.6MB/s eta 0:00:01\r\u001b[K     |█████████████████▌              | 665kB 7.6MB/s eta 0:00:01\r\u001b[K     |█████████████████▉              | 675kB 7.6MB/s eta 0:00:01\r\u001b[K     |██████████████████              | 686kB 7.6MB/s eta 0:00:01\r\u001b[K     |██████████████████▍             | 696kB 7.6MB/s eta 0:00:01\r\u001b[K     |██████████████████▋             | 706kB 7.6MB/s eta 0:00:01\r\u001b[K     |███████████████████             | 716kB 7.6MB/s eta 0:00:01\r\u001b[K     |███████████████████▏            | 727kB 7.6MB/s eta 0:00:01\r\u001b[K     |███████████████████▌            | 737kB 7.6MB/s eta 0:00:01\r\u001b[K     |███████████████████▊            | 747kB 7.6MB/s eta 0:00:01\r\u001b[K     |████████████████████            | 757kB 7.6MB/s eta 0:00:01\r\u001b[K     |████████████████████▎           | 768kB 7.6MB/s eta 0:00:01\r\u001b[K     |████████████████████▌           | 778kB 7.6MB/s eta 0:00:01\r\u001b[K     |████████████████████▉           | 788kB 7.6MB/s eta 0:00:01\r\u001b[K     |█████████████████████           | 798kB 7.6MB/s eta 0:00:01\r\u001b[K     |█████████████████████▍          | 808kB 7.6MB/s eta 0:00:01\r\u001b[K     |█████████████████████▋          | 819kB 7.6MB/s eta 0:00:01\r\u001b[K     |█████████████████████▉          | 829kB 7.6MB/s eta 0:00:01\r\u001b[K     |██████████████████████▏         | 839kB 7.6MB/s eta 0:00:01\r\u001b[K     |██████████████████████▍         | 849kB 7.6MB/s eta 0:00:01\r\u001b[K     |██████████████████████▊         | 860kB 7.6MB/s eta 0:00:01\r\u001b[K     |███████████████████████         | 870kB 7.6MB/s eta 0:00:01\r\u001b[K     |███████████████████████▎        | 880kB 7.6MB/s eta 0:00:01\r\u001b[K     |███████████████████████▌        | 890kB 7.6MB/s eta 0:00:01\r\u001b[K     |███████████████████████▊        | 901kB 7.6MB/s eta 0:00:01\r\u001b[K     |████████████████████████        | 911kB 7.6MB/s eta 0:00:01\r\u001b[K     |████████████████████████▎       | 921kB 7.6MB/s eta 0:00:01\r\u001b[K     |████████████████████████▋       | 931kB 7.6MB/s eta 0:00:01\r\u001b[K     |████████████████████████▉       | 942kB 7.6MB/s eta 0:00:01\r\u001b[K     |█████████████████████████▏      | 952kB 7.6MB/s eta 0:00:01\r\u001b[K     |█████████████████████████▍      | 962kB 7.6MB/s eta 0:00:01\r\u001b[K     |█████████████████████████▋      | 972kB 7.6MB/s eta 0:00:01\r\u001b[K     |██████████████████████████      | 983kB 7.6MB/s eta 0:00:01\r\u001b[K     |██████████████████████████▏     | 993kB 7.6MB/s eta 0:00:01\r\u001b[K     |██████████████████████████▌     | 1.0MB 7.6MB/s eta 0:00:01\r\u001b[K     |██████████████████████████▊     | 1.0MB 7.6MB/s eta 0:00:01\r\u001b[K     |███████████████████████████     | 1.0MB 7.6MB/s eta 0:00:01\r\u001b[K     |███████████████████████████▎    | 1.0MB 7.6MB/s eta 0:00:01\r\u001b[K     |███████████████████████████▌    | 1.0MB 7.6MB/s eta 0:00:01\r\u001b[K     |███████████████████████████▉    | 1.1MB 7.6MB/s eta 0:00:01\r\u001b[K     |████████████████████████████    | 1.1MB 7.6MB/s eta 0:00:01\r\u001b[K     |████████████████████████████▍   | 1.1MB 7.6MB/s eta 0:00:01\r\u001b[K     |████████████████████████████▋   | 1.1MB 7.6MB/s eta 0:00:01\r\u001b[K     |█████████████████████████████   | 1.1MB 7.6MB/s eta 0:00:01\r\u001b[K     |█████████████████████████████▏  | 1.1MB 7.6MB/s eta 0:00:01\r\u001b[K     |█████████████████████████████▍  | 1.1MB 7.6MB/s eta 0:00:01\r\u001b[K     |█████████████████████████████▊  | 1.1MB 7.6MB/s eta 0:00:01\r\u001b[K     |██████████████████████████████  | 1.1MB 7.6MB/s eta 0:00:01\r\u001b[K     |██████████████████████████████▎ | 1.1MB 7.6MB/s eta 0:00:01\r\u001b[K     |██████████████████████████████▌ | 1.2MB 7.6MB/s eta 0:00:01\r\u001b[K     |██████████████████████████████▉ | 1.2MB 7.6MB/s eta 0:00:01\r\u001b[K     |███████████████████████████████ | 1.2MB 7.6MB/s eta 0:00:01\r\u001b[K     |███████████████████████████████▎| 1.2MB 7.6MB/s eta 0:00:01\r\u001b[K     |███████████████████████████████▋| 1.2MB 7.6MB/s eta 0:00:01\r\u001b[K     |███████████████████████████████▉| 1.2MB 7.6MB/s eta 0:00:01\r\u001b[K     |████████████████████████████████| 1.2MB 7.6MB/s \n",
            "\u001b[?25hRequirement already satisfied: wrapt>=1.11.1 in /usr/local/lib/python3.7/dist-packages (from tf-agents) (1.12.1)\n",
            "Requirement already satisfied: tensorflow-probability>=0.12.1 in /usr/local/lib/python3.7/dist-packages (from tf-agents) (0.12.1)\n",
            "Requirement already satisfied: cloudpickle>=1.3 in /usr/local/lib/python3.7/dist-packages (from tf-agents) (1.3.0)\n",
            "Requirement already satisfied: six>=1.10.0 in /usr/local/lib/python3.7/dist-packages (from tf-agents) (1.15.0)\n",
            "Requirement already satisfied: gin-config>=0.4.0 in /usr/local/lib/python3.7/dist-packages (from tf-agents) (0.4.0)\n",
            "Requirement already satisfied: pillow>=7.0.0 in /usr/local/lib/python3.7/dist-packages (from tf-agents) (7.1.2)\n",
            "Requirement already satisfied: protobuf>=3.11.3 in /usr/local/lib/python3.7/dist-packages (from tf-agents) (3.12.4)\n",
            "Requirement already satisfied: numpy>=1.13.3 in /usr/local/lib/python3.7/dist-packages (from tf-agents) (1.19.5)\n",
            "Requirement already satisfied: gym>=0.17.0 in /usr/local/lib/python3.7/dist-packages (from tf-agents) (0.17.3)\n",
            "Requirement already satisfied: absl-py>=0.6.1 in /usr/local/lib/python3.7/dist-packages (from tf-agents) (0.12.0)\n",
            "Requirement already satisfied: typing-extensions>=3.7.4.3 in /usr/local/lib/python3.7/dist-packages (from tf-agents) (3.7.4.3)\n",
            "Requirement already satisfied: gast>=0.3.2 in /usr/local/lib/python3.7/dist-packages (from tensorflow-probability>=0.12.1->tf-agents) (0.3.3)\n",
            "Requirement already satisfied: dm-tree in /usr/local/lib/python3.7/dist-packages (from tensorflow-probability>=0.12.1->tf-agents) (0.1.6)\n",
            "Requirement already satisfied: decorator in /usr/local/lib/python3.7/dist-packages (from tensorflow-probability>=0.12.1->tf-agents) (4.4.2)\n",
            "Requirement already satisfied: setuptools in /usr/local/lib/python3.7/dist-packages (from protobuf>=3.11.3->tf-agents) (56.0.0)\n",
            "Requirement already satisfied: pyglet<=1.5.0,>=1.4.0 in /usr/local/lib/python3.7/dist-packages (from gym>=0.17.0->tf-agents) (1.5.0)\n",
            "Requirement already satisfied: scipy in /usr/local/lib/python3.7/dist-packages (from gym>=0.17.0->tf-agents) (1.4.1)\n",
            "Requirement already satisfied: future in /usr/local/lib/python3.7/dist-packages (from pyglet<=1.5.0,>=1.4.0->gym>=0.17.0->tf-agents) (0.16.0)\n",
            "Installing collected packages: tf-agents\n",
            "Successfully installed tf-agents-0.7.1\n"
          ],
          "name": "stdout"
        }
      ]
    },
    {
      "cell_type": "code",
      "metadata": {
        "id": "SE5Cn8y1YVVt",
        "outputId": "f388806b-6fd6-4f11-8011-dc39c0fa3b04",
        "colab": {
          "base_uri": "https://localhost:8080/"
        }
      },
      "source": [
        "pip install pyvirtualdisplay"
      ],
      "execution_count": 16,
      "outputs": [
        {
          "output_type": "stream",
          "text": [
            "Requirement already satisfied: pyvirtualdisplay in /usr/local/lib/python3.7/dist-packages (2.1)\n",
            "Requirement already satisfied: EasyProcess in /usr/local/lib/python3.7/dist-packages (from pyvirtualdisplay) (0.3)\n"
          ],
          "name": "stdout"
        }
      ]
    },
    {
      "cell_type": "code",
      "metadata": {
        "id": "N_SvJLmrXvcy",
        "outputId": "2765bb56-bae2-4788-8135-08437a9f4807",
        "colab": {
          "base_uri": "https://localhost:8080/"
        }
      },
      "source": [
        "from __future__ import absolute_import\n",
        "from __future__ import division\n",
        "from __future__ import print_function\n",
        "\n",
        "import abc\n",
        "import tensorflow as tf\n",
        "import numpy as np\n",
        "import pandas as pd\n",
        "\n",
        "from tf_agents.environments import py_environment\n",
        "from tf_agents.environments import tf_environment\n",
        "from tf_agents.environments import tf_py_environment\n",
        "from tf_agents.environments import utils\n",
        "from tf_agents.specs import array_spec\n",
        "from tf_agents.environments import wrappers\n",
        "from tf_agents.environments import suite_gym\n",
        "from tf_agents.trajectories import time_step as ts\n",
        "\n",
        "tf.random.set_seed(12)\n",
        "tf.config.list_physical_devices('GPU') "
      ],
      "execution_count": 17,
      "outputs": [
        {
          "output_type": "execute_result",
          "data": {
            "text/plain": [
              "[]"
            ]
          },
          "metadata": {
            "tags": []
          },
          "execution_count": 17
        }
      ]
    },
    {
      "cell_type": "code",
      "metadata": {
        "id": "JuHVpy1gXvc2"
      },
      "source": [
        "def mprint(_s, verbose = 1):\n",
        "    if(verbose == 1):\n",
        "        print(_s)\n",
        "\n",
        "verbose = 0"
      ],
      "execution_count": 18,
      "outputs": []
    },
    {
      "cell_type": "code",
      "metadata": {
        "id": "12RAv8VPXvc2",
        "outputId": "6244ed34-5dbc-49e5-cd3b-7343dcf87fcb",
        "colab": {
          "base_uri": "https://localhost:8080/"
        }
      },
      "source": [
        "np.random.choice([0,1])"
      ],
      "execution_count": 19,
      "outputs": [
        {
          "output_type": "execute_result",
          "data": {
            "text/plain": [
              "1"
            ]
          },
          "metadata": {
            "tags": []
          },
          "execution_count": 19
        }
      ]
    },
    {
      "cell_type": "code",
      "metadata": {
        "id": "LfSyBMm9Xvc2"
      },
      "source": [
        "class MyTradeEnv(py_environment.PyEnvironment):\n",
        "\n",
        "    def __update_state(self):\n",
        "        _idx = self._dayIndex + self._currentDayIndex\n",
        "        _x = self._normPriceArray[:_idx]\n",
        "        self._state = np.append(np.pad(_x, (0,self._maxDayIndex - _idx)), self._activePosition)\n",
        "\n",
        "    def __select_episode(self):\n",
        "        #r = np.random.choice([0,1])\n",
        "        if(self.price_nr == 0):\n",
        "            self.price_nr = 1\n",
        "        else:\n",
        "            self.price_nr = 0\n",
        "\n",
        "        pa = self.price_data[self.price_nr]\n",
        "\n",
        "        na = (pa-min(pa))/(max(pa)-min(pa))\n",
        "\n",
        "        return pa, na\n",
        "\n",
        "\n",
        "    def __init__(self):\n",
        "        #2 Actions: We have 3 actions. Action 0: skip, Action 1: buy, Action 2: sell, Action 3: close open position\n",
        "        self._action_spec = array_spec.BoundedArraySpec(\n",
        "            shape=(), dtype=np.int32, minimum=0, maximum=3, name='action')\n",
        "\n",
        "        #representation of the enviroment: price + open position state\n",
        "        self._observation_spec = array_spec.BoundedArraySpec(\n",
        "            shape=(22,), dtype=np.float32, minimum=0, name='observation')\n",
        "\n",
        "\n",
        "        #define price data\n",
        "        self.price_data = np.float32(np.array([\n",
        "                [10, 11, 12, 11, 12, 13, 14, 13, 12, 11, 12, 11, 10, 9, 10, 11, 12, 11, 12, 13],\n",
        "                [10, 11, 12, 13, 14, 15, 14, 15, 16, 15, 16, 15, 16, 17, 16, 17, 16,15, 16, 15]\n",
        "            ]))\n",
        "\n",
        "        self.price_nr = 0\n",
        "        \n",
        "        self._episode_ended = False\n",
        "\n",
        "        self._position = 0      # 0 - no position, 1 - long, -1 - short\n",
        "        self._fees = -0.5       # broker fees\n",
        "        self._spread = 0.02     # spread\n",
        "        self._shares = 100      # number of trading shares\n",
        "        self._money = 10000.0   # money\n",
        "        self._pnl = 0.0         # PnL\n",
        "\n",
        "\n",
        "        self._dayIndex = 10       # days of history are available from the beginning\n",
        "        self._maxDayIndex = 20    # maximun days of trading investment\n",
        "        self._currentDayIndex = 0 # current day idex -> starts with 0\n",
        "\n",
        "        # example of enviroment observation -> price list\n",
        "        #self._priceArray = np.float32(np.array([10, 11, 12, 11, 12, 13, 14, 13, 12, 11, 12, 11, 10, 9, 10, 11, 12, 11, 12, 13]))\n",
        "        #self._priceArray = np.float32(np.array([10, 9, 10, 11, 12, 13, 14, 13, 12, 13, 12, 11, 10,  9, 10,  9,  8, 7,  8,  7]))\n",
        "        \n",
        "        # normalized price -> just for the testing\n",
        "        #self._normPriceArray = (self._priceArray-min(self._priceArray))/(max(self._priceArray)-min(self._priceArray))\n",
        "        #self._normPriceArray =self._priceArray\n",
        "        self._priceArray, self._normPriceArray = self.__select_episode()\n",
        "\n",
        "        # active position -> onehot encoded -> index 0 = 1 - open long position, index 1 = 1 - open short position\n",
        "        self._activePosition = np.array([0,0])\n",
        "\n",
        "        #calculate new observation state\n",
        "        #every new step (new day) we are adding new price\n",
        "        self.__update_state()\n",
        "       \n",
        "    def action_spec(self):\n",
        "        return self._action_spec\n",
        "\n",
        "    def observation_spec(self):\n",
        "        return self._observation_spec\n",
        "\n",
        "    def _reset(self):\n",
        "        self._episode_ended = False\n",
        "        self._currentDayIndex = 0\n",
        "        self._pnl = 0\n",
        "\n",
        "        self._priceArray, self._normPriceArray = self.__select_episode()\n",
        "        self.__reset_position()\n",
        "        self.__update_state()\n",
        "\n",
        "        return ts.restart(np.array(self._state, dtype=np.float32))\n",
        "\n",
        "    def __open_position(self, pos, action, idx):\n",
        "        \n",
        "        reward = 0\n",
        "        actionPnl = 0\n",
        "\n",
        "        if(self._position == 0): #no open positions\n",
        "\n",
        "            self._position = pos # set position direction\n",
        "            #update the position data\n",
        "            if(pos == 1):\n",
        "                self._activePosition[0] = 1.0\n",
        "            elif(pos == -1):\n",
        "                self._activePosition[1] = 1.0\n",
        "\n",
        "            needMoney = self._shares * self._priceArray[idx-1] #calculate how much we need to pay\n",
        "\n",
        "            if(needMoney > self._money): #no more money to trade => exit\n",
        "                self._episode_ended = True # fnish the episode \n",
        "                reward = -100  \n",
        "                print('ERROR NO MONEY!')\n",
        "            else:  #open new position\n",
        "                actionPnl = self._fees - self._spread*self._shares # calculate immidiade pnl\n",
        "                mprint('OPEN LONG -> actionPnl = {}, price = {}'.format(actionPnl,  self._state[idx-1]), verbose=verbose)\n",
        "                #reward = 0\n",
        "                reward = actionPnl #set reward equal pnl for current day\n",
        "\n",
        "        else: # position is already open\n",
        "            action = 0 #set action to skip\n",
        "            mprint('OPEN LONG -> Position Open -> go to Skip', verbose=verbose)\n",
        "\n",
        "\n",
        "        return reward, actionPnl, action\n",
        "    \n",
        "\n",
        "    def __reset_position(self):\n",
        "        self._position = 0\n",
        "        self._activePosition = np.array([0,0])\n",
        "\n",
        "\n",
        "    def __calculate_price_change(self, i1, i2):\n",
        "        return (np.abs(self._priceArray[i1]) - np.abs(self._priceArray[i2]))*self._position\n",
        "\n",
        "    def __calculate_close_position_pnl(self, diffPrice):\n",
        "        return diffPrice * self._shares + self._fees - self._spread*self._shares\n",
        "\n",
        "    def _step(self, action):\n",
        "\n",
        "        if self._episode_ended:\n",
        "            # The last action ended the episode. Ignore the current action and start\n",
        "            # a new episode.\n",
        "            return self.reset()\n",
        "\n",
        "        reward = 0\n",
        "        actionPnl = 0\n",
        "\n",
        "        #go to the next day\n",
        "        self._currentDayIndex += 1\n",
        "\n",
        "        # calculate new index, because we can't buy or sell with the visible price\n",
        "        # action selected on visible history, par performs on the next observation\n",
        "        _idx = self._dayIndex + self._currentDayIndex\n",
        "        mprint('action = {} _idx = {}'.format(action,  _idx), verbose=verbose)\n",
        "        \n",
        "        #add new price for observation\n",
        "        self._state = np.pad(self._normPriceArray[:_idx], (0,self._maxDayIndex - _idx))\n",
        "\n",
        "        #select the action\n",
        "        if(1 == action): #buy\n",
        "            reward, actionPnl, action = self.__open_position(1, action, _idx)\n",
        "\n",
        "        elif(2 == action): #sell\n",
        "            reward, actionPnl, action = self.__open_position(-1, action, _idx)\n",
        "\n",
        "\n",
        "        elif(3 == action): #close\n",
        "            if(self._position != 0):\n",
        "\n",
        "                #calculate the pirce change\n",
        "                diffPrice = self.__calculate_price_change(_idx-1, _idx-2)\n",
        "                actionPnl = self.__calculate_close_position_pnl(diffPrice)\n",
        "                mprint('CLOSE -> actionPnl = {}, price = {}'.format(actionPnl,  self._state[_idx-1]), verbose=verbose)\n",
        "\n",
        "                self.__reset_position()\n",
        "\n",
        "                reward = actionPnl #set reward equeal to daychange pnl\n",
        "\n",
        "            else:\n",
        "                action = 0 # nothing to close -> go to skip action\n",
        "\n",
        "\n",
        "        if(0 == action): #skip action \n",
        "            if(self._position != 0): #position is open\n",
        "                diffPrice = self.__calculate_price_change(_idx-1, _idx-2)\n",
        "                actionPnl = diffPrice * self._shares\n",
        "                mprint('SKIP -> actionPnl = {}, price = {}'.format(actionPnl,  self._state[_idx-1]), verbose=verbose)\n",
        "                \n",
        "                #reward = 0\n",
        "                reward = actionPnl\n",
        "            else:\n",
        "                mprint('SKIP -> ...no position', verbose=verbose)\n",
        "                reward = -10 # if no position set negative reward to stimulate agent\n",
        "\n",
        "\n",
        "        if _idx == self._maxDayIndex: #if we have a last observation day\n",
        "            self._episode_ended = True\n",
        "\n",
        "\n",
        "        if self._episode_ended == True:\n",
        "            if(self._position != 0):\n",
        "                diffPrice = self.__calculate_price_change(_idx-1, _idx-2)\n",
        "                actionPnl = self.__calculate_close_position_pnl(diffPrice)\n",
        "\n",
        "                self.__reset_position()\n",
        "\n",
        "\n",
        "\n",
        "        self._pnl += actionPnl # update PnL\n",
        "\n",
        "        self._state = np.append(self._state, self._activePosition) # add position state to the observation state\n",
        "\n",
        "        mprint('PnL = {}'.format(self._pnl), verbose=verbose)\n",
        "        mprint('{}'.format(self._state), verbose=verbose)\n",
        "\n",
        "        #print('-->reward', reward)\n",
        "        if self._episode_ended:\n",
        "            reward = self._pnl\n",
        "            return ts.termination(np.array(self._state, dtype=np.float32), reward)\n",
        "        else:\n",
        "            return ts.transition(\n",
        "                np.array(self._state, dtype=np.float32), reward=reward, discount=1.0)"
      ],
      "execution_count": 20,
      "outputs": []
    },
    {
      "cell_type": "code",
      "metadata": {
        "tags": [],
        "id": "IZQdyK-VXvc3"
      },
      "source": [
        "environment = MyTradeEnv()\n",
        "utils.validate_py_environment(environment, episodes=1)"
      ],
      "execution_count": 21,
      "outputs": []
    },
    {
      "cell_type": "code",
      "metadata": {
        "tags": [],
        "id": "VAE6D9M-Xvc4",
        "outputId": "c4cabffd-5b88-441c-e1dd-f0a6206ee4d6",
        "colab": {
          "base_uri": "https://localhost:8080/"
        }
      },
      "source": [
        "print('action_spec:', environment.action_spec())\n",
        "print('time_step_spec.observation:', environment.time_step_spec().observation)\n",
        "print('time_step_spec.step_type:', environment.time_step_spec().step_type)\n",
        "print('time_step_spec.discount:', environment.time_step_spec().discount)\n",
        "print('time_step_spec.reward:', environment.time_step_spec().reward)"
      ],
      "execution_count": 22,
      "outputs": [
        {
          "output_type": "stream",
          "text": [
            "action_spec: BoundedArraySpec(shape=(), dtype=dtype('int32'), name='action', minimum=0, maximum=3)\n",
            "time_step_spec.observation: BoundedArraySpec(shape=(22,), dtype=dtype('float32'), name='observation', minimum=0.0, maximum=3.4028234663852886e+38)\n",
            "time_step_spec.step_type: ArraySpec(shape=(), dtype=dtype('int32'), name='step_type')\n",
            "time_step_spec.discount: BoundedArraySpec(shape=(), dtype=dtype('float32'), name='discount', minimum=0.0, maximum=1.0)\n",
            "time_step_spec.reward: ArraySpec(shape=(), dtype=dtype('float32'), name='reward')\n"
          ],
          "name": "stdout"
        }
      ]
    },
    {
      "cell_type": "code",
      "metadata": {
        "tags": [],
        "id": "u-EOFeCPXvc4"
      },
      "source": [
        "# get_new_action = np.array(1, dtype=np.int32)\n",
        "# end_round_action = np.array(3, dtype=np.int32)\n",
        "\n",
        "# environment = MyTradeEnv()\n",
        "# time_step = environment.reset()\n",
        "# print('RESET')\n",
        "# print(time_step)\n",
        "# time_step = environment.current_time_step()\n",
        "# print('current_time_step')\n",
        "# print(time_step)\n",
        "# time_step = environment.step(get_new_action)\n",
        "# print('action')\n",
        "# print(time_step)\n",
        "\n"
      ],
      "execution_count": 23,
      "outputs": []
    },
    {
      "cell_type": "code",
      "metadata": {
        "tags": [],
        "id": "UNZi8_CWXvc4",
        "outputId": "bd2ff09a-214b-4df6-cfe9-fc22e810f4ac",
        "colab": {
          "base_uri": "https://localhost:8080/"
        }
      },
      "source": [
        "get_new_action = np.array(1, dtype=np.int32)\n",
        "end_round_action = np.array(3, dtype=np.int32)\n",
        "\n",
        "environment = MyTradeEnv()\n",
        "time_step = environment.reset()\n",
        "print(time_step)\n",
        "cumulative_reward = time_step.reward\n",
        "print('cumulative_reward', cumulative_reward)\n",
        "print('-------------')\n",
        "#print(time_step.observation)\n",
        "\n",
        "\n",
        "for _ in range(4):\n",
        "  time_step = environment.step(get_new_action)\n",
        "  print(time_step)\n",
        "  #print(time_step.observation)\n",
        "  cumulative_reward += time_step.reward\n",
        "  print('cumulative_reward', cumulative_reward)\n",
        "\n",
        "print('-----------------')\n",
        "time_step = environment.step(end_round_action)\n",
        "print(time_step)\n",
        "cumulative_reward += time_step.reward\n",
        "print('Final Reward = ', cumulative_reward)"
      ],
      "execution_count": 24,
      "outputs": [
        {
          "output_type": "stream",
          "text": [
            "TimeStep(step_type=array(0, dtype=int32), reward=array(0., dtype=float32), discount=array(1., dtype=float32), observation=array([0.2, 0.4, 0.6, 0.4, 0.6, 0.8, 1. , 0.8, 0.6, 0.4, 0. , 0. , 0. ,\n",
            "       0. , 0. , 0. , 0. , 0. , 0. , 0. , 0. , 0. ], dtype=float32))\n",
            "cumulative_reward 0.0\n",
            "-------------\n",
            "TimeStep(step_type=array(1, dtype=int32), reward=array(-2.5, dtype=float32), discount=array(1., dtype=float32), observation=array([0.2, 0.4, 0.6, 0.4, 0.6, 0.8, 1. , 0.8, 0.6, 0.4, 0.6, 0. , 0. ,\n",
            "       0. , 0. , 0. , 0. , 0. , 0. , 0. , 1. , 0. ], dtype=float32))\n",
            "cumulative_reward -2.5\n",
            "TimeStep(step_type=array(1, dtype=int32), reward=array(-100., dtype=float32), discount=array(1., dtype=float32), observation=array([0.2, 0.4, 0.6, 0.4, 0.6, 0.8, 1. , 0.8, 0.6, 0.4, 0.6, 0.4, 0. ,\n",
            "       0. , 0. , 0. , 0. , 0. , 0. , 0. , 1. , 0. ], dtype=float32))\n",
            "cumulative_reward -102.5\n",
            "TimeStep(step_type=array(1, dtype=int32), reward=array(-100., dtype=float32), discount=array(1., dtype=float32), observation=array([0.2, 0.4, 0.6, 0.4, 0.6, 0.8, 1. , 0.8, 0.6, 0.4, 0.6, 0.4, 0.2,\n",
            "       0. , 0. , 0. , 0. , 0. , 0. , 0. , 1. , 0. ], dtype=float32))\n",
            "cumulative_reward -202.5\n",
            "TimeStep(step_type=array(1, dtype=int32), reward=array(-100., dtype=float32), discount=array(1., dtype=float32), observation=array([0.2, 0.4, 0.6, 0.4, 0.6, 0.8, 1. , 0.8, 0.6, 0.4, 0.6, 0.4, 0.2,\n",
            "       0. , 0. , 0. , 0. , 0. , 0. , 0. , 1. , 0. ], dtype=float32))\n",
            "cumulative_reward -302.5\n",
            "-----------------\n",
            "TimeStep(step_type=array(1, dtype=int32), reward=array(97.5, dtype=float32), discount=array(1., dtype=float32), observation=array([0.2, 0.4, 0.6, 0.4, 0.6, 0.8, 1. , 0.8, 0.6, 0.4, 0.6, 0.4, 0.2,\n",
            "       0. , 0.2, 0. , 0. , 0. , 0. , 0. , 0. , 0. ], dtype=float32))\n",
            "Final Reward =  -205.0\n"
          ],
          "name": "stdout"
        }
      ]
    },
    {
      "cell_type": "code",
      "metadata": {
        "id": "_tZ4T_4JXvc4"
      },
      "source": [
        "def Randwalk(n):\n",
        "\n",
        "   x = 0\n",
        "   y = 10\n",
        "\n",
        "   time = [x]\n",
        "   position = [y] \n",
        "\n",
        "   for i in range (1,n):\n",
        "       move = np.random.uniform(0,1)\n",
        "\n",
        "       if move < 0.5:    \n",
        "           x += 1\n",
        "           y += 1  \n",
        "\n",
        "       if move > 0.5:    \n",
        "           x += 1\n",
        "           y += -1\n",
        " \n",
        "       time.append(x)\n",
        "       position.append(y)\n",
        "\n",
        "   return position"
      ],
      "execution_count": 25,
      "outputs": []
    },
    {
      "cell_type": "code",
      "metadata": {
        "id": "tuUmip6VXvc4"
      },
      "source": [
        "#k = Randwalk(20)\n",
        "#pd.Series(k).plot()"
      ],
      "execution_count": 26,
      "outputs": []
    },
    {
      "cell_type": "code",
      "metadata": {
        "tags": [],
        "id": "GhV9FZHmXvc4",
        "outputId": "eaab3776-dd53-440e-ca08-e42af0f75e94",
        "colab": {
          "base_uri": "https://localhost:8080/"
        }
      },
      "source": [
        "tf_env = tf_py_environment.TFPyEnvironment(environment)\n",
        "\n",
        "print(isinstance(tf_env, tf_environment.TFEnvironment))\n",
        "print('...................')\n",
        "print(\"TimeStep Specs:\", tf_env.time_step_spec())\n",
        "print('...................')\n",
        "print(\"Action Specs:\", tf_env.action_spec())"
      ],
      "execution_count": 27,
      "outputs": [
        {
          "output_type": "stream",
          "text": [
            "True\n",
            "...................\n",
            "TimeStep Specs: TimeStep(step_type=TensorSpec(shape=(), dtype=tf.int32, name='step_type'), reward=TensorSpec(shape=(), dtype=tf.float32, name='reward'), discount=BoundedTensorSpec(shape=(), dtype=tf.float32, name='discount', minimum=array(0., dtype=float32), maximum=array(1., dtype=float32)), observation=BoundedTensorSpec(shape=(22,), dtype=tf.float32, name='observation', minimum=array(0., dtype=float32), maximum=array(3.4028235e+38, dtype=float32)))\n",
            "...................\n",
            "Action Specs: BoundedTensorSpec(shape=(), dtype=tf.int32, name='action', minimum=array(0, dtype=int32), maximum=array(3, dtype=int32))\n"
          ],
          "name": "stdout"
        }
      ]
    },
    {
      "cell_type": "code",
      "metadata": {
        "id": "WTarD_CAXvc5"
      },
      "source": [
        "from __future__ import absolute_import, division, print_function\n",
        "\n",
        "import base64\n",
        "import imageio\n",
        "import IPython\n",
        "import matplotlib\n",
        "import matplotlib.pyplot as plt\n",
        "import numpy as np\n",
        "import PIL.Image\n",
        "import pyvirtualdisplay\n",
        "\n",
        "import tensorflow as tf\n",
        "\n",
        "from tf_agents.agents.dqn import dqn_agent\n",
        "from tf_agents.drivers import dynamic_step_driver\n",
        "from tf_agents.environments import suite_gym\n",
        "from tf_agents.environments import tf_py_environment\n",
        "from tf_agents.eval import metric_utils\n",
        "from tf_agents.metrics import tf_metrics\n",
        "from tf_agents.networks import q_network\n",
        "from tf_agents.policies import random_tf_policy\n",
        "from tf_agents.replay_buffers import tf_uniform_replay_buffer\n",
        "from tf_agents.trajectories import trajectory\n",
        "from tf_agents.utils import common\n",
        "tf.compat.v1.enable_v2_behavior()"
      ],
      "execution_count": 28,
      "outputs": []
    },
    {
      "cell_type": "code",
      "metadata": {
        "id": "36K_xmwFXvc5"
      },
      "source": [
        "num_iterations = 100000 # @param {type:\"integer\"}\n",
        "\n",
        "initial_collect_steps = 1000  # @param {type:\"integer\"} \n",
        "collect_steps_per_iteration = 2  # @param {type:\"integer\"}\n",
        "replay_buffer_max_length = 100000  # @param {type:\"integer\"}\n",
        "\n",
        "batch_size = 64  # @param {type:\"integer\"}\n",
        "learning_rate = 1e-3  # @param {type:\"number\"}\n",
        "log_interval = 500  # @param {type:\"integer\"}\n",
        "\n",
        "num_eval_episodes = 10  # @param {type:\"integer\"}\n",
        "eval_interval = 5000  # @param {type:\"integer\"}"
      ],
      "execution_count": 29,
      "outputs": []
    },
    {
      "cell_type": "code",
      "metadata": {
        "tags": [],
        "id": "NRGMLw1NXvc5"
      },
      "source": [
        "train_env = tf_py_environment.TFPyEnvironment(MyTradeEnv())\n",
        "eval_env = tf_py_environment.TFPyEnvironment(MyTradeEnv())"
      ],
      "execution_count": 30,
      "outputs": []
    },
    {
      "cell_type": "code",
      "metadata": {
        "id": "xULZfT3fXvc5"
      },
      "source": [
        "fc_layer_params = (40,)\n",
        "\n",
        "q_net = q_network.QNetwork(\n",
        "    train_env.observation_spec(),\n",
        "    train_env.action_spec(),\n",
        "    fc_layer_params=fc_layer_params)"
      ],
      "execution_count": 31,
      "outputs": []
    },
    {
      "cell_type": "code",
      "metadata": {
        "id": "owamaNUCXvc5"
      },
      "source": [
        "optimizer = tf.compat.v1.train.AdamOptimizer(learning_rate=learning_rate)\n",
        "\n",
        "train_step_counter = tf.Variable(0)\n",
        "\n",
        "agent = dqn_agent.DqnAgent(\n",
        "    train_env.time_step_spec(),\n",
        "    train_env.action_spec(),\n",
        "    q_network=q_net,\n",
        "    optimizer=optimizer,\n",
        "    td_errors_loss_fn=common.element_wise_squared_loss,\n",
        "    train_step_counter=train_step_counter)\n",
        "\n",
        "agent.initialize()"
      ],
      "execution_count": 32,
      "outputs": []
    },
    {
      "cell_type": "code",
      "metadata": {
        "id": "q3G8KfwGXvc5"
      },
      "source": [
        "eval_policy = agent.policy\n",
        "collect_policy = agent.collect_policy"
      ],
      "execution_count": 33,
      "outputs": []
    },
    {
      "cell_type": "code",
      "metadata": {
        "id": "X16Y4t1hXvc5"
      },
      "source": [
        "random_policy = random_tf_policy.RandomTFPolicy(train_env.time_step_spec(),\n",
        "                                                train_env.action_spec())"
      ],
      "execution_count": 34,
      "outputs": []
    },
    {
      "cell_type": "code",
      "metadata": {
        "id": "umxUn5syXvc5"
      },
      "source": [
        "def compute_avg_return(environment, policy, num_episodes=10):\n",
        "\n",
        "  total_return = 0.0\n",
        "  for _ in range(num_episodes):\n",
        "\n",
        "    time_step = environment.reset()\n",
        "    episode_return = 0.0\n",
        "\n",
        "    while not time_step.is_last():\n",
        "      action_step = policy.action(time_step)\n",
        "      time_step = environment.step(action_step.action)\n",
        "      episode_return += time_step.reward\n",
        "    total_return += episode_return\n",
        "\n",
        "  avg_return = total_return / num_episodes\n",
        "  return avg_return.numpy()[0]"
      ],
      "execution_count": 35,
      "outputs": []
    },
    {
      "cell_type": "code",
      "metadata": {
        "id": "8j8lb-cNXvc5",
        "outputId": "f520386c-936a-42b0-9bcc-e272dee25ed9",
        "colab": {
          "base_uri": "https://localhost:8080/"
        }
      },
      "source": [
        "compute_avg_return(eval_env, random_policy, num_eval_episodes)"
      ],
      "execution_count": 36,
      "outputs": [
        {
          "output_type": "execute_result",
          "data": {
            "text/plain": [
              "310.25"
            ]
          },
          "metadata": {
            "tags": []
          },
          "execution_count": 36
        }
      ]
    },
    {
      "cell_type": "code",
      "metadata": {
        "id": "e3PNS9sAXvc5"
      },
      "source": [
        "replay_buffer = tf_uniform_replay_buffer.TFUniformReplayBuffer(\n",
        "    data_spec=agent.collect_data_spec,\n",
        "    batch_size=train_env.batch_size,\n",
        "    max_length=replay_buffer_max_length)"
      ],
      "execution_count": 37,
      "outputs": []
    },
    {
      "cell_type": "code",
      "metadata": {
        "id": "k5Uc75EIXvc6",
        "outputId": "088cbc3c-e68c-4824-e644-a0cba633068d",
        "colab": {
          "base_uri": "https://localhost:8080/"
        }
      },
      "source": [
        "agent.collect_data_spec"
      ],
      "execution_count": 38,
      "outputs": [
        {
          "output_type": "execute_result",
          "data": {
            "text/plain": [
              "Trajectory(step_type=TensorSpec(shape=(), dtype=tf.int32, name='step_type'), observation=BoundedTensorSpec(shape=(22,), dtype=tf.float32, name='observation', minimum=array(0., dtype=float32), maximum=array(3.4028235e+38, dtype=float32)), action=BoundedTensorSpec(shape=(), dtype=tf.int32, name='action', minimum=array(0, dtype=int32), maximum=array(3, dtype=int32)), policy_info=(), next_step_type=TensorSpec(shape=(), dtype=tf.int32, name='step_type'), reward=TensorSpec(shape=(), dtype=tf.float32, name='reward'), discount=BoundedTensorSpec(shape=(), dtype=tf.float32, name='discount', minimum=array(0., dtype=float32), maximum=array(1., dtype=float32)))"
            ]
          },
          "metadata": {
            "tags": []
          },
          "execution_count": 38
        }
      ]
    },
    {
      "cell_type": "code",
      "metadata": {
        "id": "zoQaFscFXvc6",
        "outputId": "82e21cf2-7d31-467a-bcc8-da68ab99b13f",
        "colab": {
          "base_uri": "https://localhost:8080/"
        }
      },
      "source": [
        "agent.collect_data_spec._fields"
      ],
      "execution_count": 39,
      "outputs": [
        {
          "output_type": "execute_result",
          "data": {
            "text/plain": [
              "('step_type',\n",
              " 'observation',\n",
              " 'action',\n",
              " 'policy_info',\n",
              " 'next_step_type',\n",
              " 'reward',\n",
              " 'discount')"
            ]
          },
          "metadata": {
            "tags": []
          },
          "execution_count": 39
        }
      ]
    },
    {
      "cell_type": "code",
      "metadata": {
        "tags": [],
        "id": "fyk6kzeYXvc6"
      },
      "source": [
        "def collect_step(environment, policy, buffer):\n",
        "  time_step = environment.current_time_step()\n",
        "  #print(time_step)\n",
        "  action_step = policy.action(time_step)\n",
        "  #print(action_step.action.numpy())\n",
        "  next_time_step = environment.step(action_step.action)\n",
        "  #print(next_time_step)\n",
        "  traj = trajectory.from_transition(time_step, action_step, next_time_step)\n",
        "\n",
        "  # Add trajectory to the replay buffer\n",
        "  buffer.add_batch(traj)\n",
        "\n",
        "def collect_data(env, policy, buffer, steps):\n",
        "  for _ in range(steps):\n",
        "    collect_step(env, policy, buffer)\n",
        "\n",
        "collect_data(train_env, random_policy, replay_buffer, steps=1)"
      ],
      "execution_count": 40,
      "outputs": []
    },
    {
      "cell_type": "code",
      "metadata": {
        "id": "gHLyoL_UXvc6",
        "outputId": "c3bb6b6d-8165-4cb8-bc4a-6a4d7e3d5e62",
        "colab": {
          "base_uri": "https://localhost:8080/"
        }
      },
      "source": [
        "# Dataset generates trajectories with shape [Bx2x...]\n",
        "dataset = replay_buffer.as_dataset(\n",
        "    num_parallel_calls=3, \n",
        "    sample_batch_size=batch_size, \n",
        "    num_steps=2).prefetch(3)\n",
        "\n",
        "\n",
        "dataset"
      ],
      "execution_count": 41,
      "outputs": [
        {
          "output_type": "stream",
          "text": [
            "WARNING:tensorflow:From /usr/local/lib/python3.7/dist-packages/tensorflow/python/autograph/operators/control_flow.py:1218: ReplayBuffer.get_next (from tf_agents.replay_buffers.replay_buffer) is deprecated and will be removed in a future version.\n",
            "Instructions for updating:\n",
            "Use `as_dataset(..., single_deterministic_pass=False) instead.\n"
          ],
          "name": "stdout"
        },
        {
          "output_type": "execute_result",
          "data": {
            "text/plain": [
              "<PrefetchDataset shapes: (Trajectory(step_type=(64, 2), observation=(64, 2, 22), action=(64, 2), policy_info=(), next_step_type=(64, 2), reward=(64, 2), discount=(64, 2)), BufferInfo(ids=(64, 2), probabilities=(64,))), types: (Trajectory(step_type=tf.int32, observation=tf.float32, action=tf.int32, policy_info=(), next_step_type=tf.int32, reward=tf.float32, discount=tf.float32), BufferInfo(ids=tf.int64, probabilities=tf.float32))>"
            ]
          },
          "metadata": {
            "tags": []
          },
          "execution_count": 41
        }
      ]
    },
    {
      "cell_type": "code",
      "metadata": {
        "tags": [],
        "id": "csudRd24Xvc6",
        "outputId": "9b533114-3cad-4300-8d69-1a046e66072c",
        "colab": {
          "base_uri": "https://localhost:8080/"
        }
      },
      "source": [
        "iterator = iter(dataset)\n",
        "\n",
        "print(iterator)"
      ],
      "execution_count": 42,
      "outputs": [
        {
          "output_type": "stream",
          "text": [
            "<tensorflow.python.data.ops.iterator_ops.OwnedIterator object at 0x7f3c9ae8c5d0>\n"
          ],
          "name": "stdout"
        }
      ]
    },
    {
      "cell_type": "code",
      "metadata": {
        "tags": [],
        "id": "qXvond-jXvc6",
        "outputId": "404770a3-c5d8-49c3-f5e6-9543d42f6c4c",
        "colab": {
          "base_uri": "https://localhost:8080/"
        }
      },
      "source": [
        "\n",
        "try:\n",
        "  %%time\n",
        "except:\n",
        "  pass\n",
        "\n",
        "# (Optional) Optimize by wrapping some of the code in a graph using TF function.\n",
        "agent.train = common.function(agent.train)\n",
        "\n",
        "# Reset the train step\n",
        "agent.train_step_counter.assign(0)\n",
        "\n",
        "# Evaluate the agent's policy once before training.\n",
        "avg_return = compute_avg_return(eval_env, agent.policy, num_eval_episodes)\n",
        "returns = [avg_return]\n",
        "\n",
        "for _ in range(10000):\n",
        "\n",
        "  # Collect a few steps using collect_policy and save to the replay buffer.\n",
        "  for _ in range(collect_steps_per_iteration):\n",
        "    collect_step(train_env, agent.collect_policy, replay_buffer)\n",
        "\n",
        "  # Sample a batch of data from the buffer and update the agent's network.\n",
        "  experience, unused_info = next(iterator)\n",
        "  train_loss = agent.train(experience).loss\n",
        "\n",
        "  step = agent.train_step_counter.numpy()\n",
        "\n",
        "  if step % log_interval == 0:\n",
        "    print('step = {0}: loss = {1}'.format(step, train_loss))\n",
        "\n",
        "  if step % eval_interval == 0:\n",
        "    avg_return = compute_avg_return(eval_env, agent.policy, num_eval_episodes)\n",
        "    print('step = {0}: Average Return = {1}'.format(step, avg_return))\n",
        "    returns.append(avg_return)"
      ],
      "execution_count": 44,
      "outputs": [
        {
          "output_type": "stream",
          "text": [
            "CPU times: user 3 µs, sys: 0 ns, total: 3 µs\n",
            "Wall time: 5.48 µs\n",
            "step = 500: loss = 3806.747314453125\n",
            "step = 1000: loss = 4836.974609375\n",
            "step = 1500: loss = 6014.40625\n",
            "step = 2000: loss = 3407.41162109375\n",
            "step = 2500: loss = 3519.95751953125\n",
            "step = 3000: loss = 5833.23388671875\n",
            "step = 3500: loss = 2673.3427734375\n",
            "step = 4000: loss = 3531.75244140625\n",
            "step = 4500: loss = 2720.333984375\n",
            "step = 5000: loss = 4688.12548828125\n",
            "step = 5000: Average Return = 21.25\n",
            "step = 5500: loss = 3609.40869140625\n",
            "step = 6000: loss = 1936.036376953125\n",
            "step = 6500: loss = 3770.70556640625\n",
            "step = 7000: loss = 2485.005126953125\n",
            "step = 7500: loss = 2018.025390625\n",
            "step = 8000: loss = 3917.2939453125\n",
            "step = 8500: loss = 1832.094970703125\n",
            "step = 9000: loss = 2301.56298828125\n",
            "step = 9500: loss = 2318.47607421875\n",
            "step = 10000: loss = 3450.5224609375\n",
            "step = 10000: Average Return = 211.25\n"
          ],
          "name": "stdout"
        }
      ]
    },
    {
      "cell_type": "code",
      "metadata": {
        "tags": [],
        "id": "Z_m5dJNnXvc6",
        "outputId": "464c2155-6f63-4ca0-f279-80cb2770e057",
        "colab": {
          "base_uri": "https://localhost:8080/",
          "height": 610
        }
      },
      "source": [
        "iterations = range(0, num_iterations + 1, eval_interval)\n",
        "plt.plot(iterations, returns)\n",
        "plt.ylabel('Average Return')\n",
        "plt.xlabel('Iterations')\n"
      ],
      "execution_count": 45,
      "outputs": [
        {
          "output_type": "error",
          "ename": "ValueError",
          "evalue": "ignored",
          "traceback": [
            "\u001b[0;31m---------------------------------------------------------------------------\u001b[0m",
            "\u001b[0;31mValueError\u001b[0m                                Traceback (most recent call last)",
            "\u001b[0;32m<ipython-input-45-071649ace972>\u001b[0m in \u001b[0;36m<module>\u001b[0;34m()\u001b[0m\n\u001b[1;32m      1\u001b[0m \u001b[0miterations\u001b[0m \u001b[0;34m=\u001b[0m \u001b[0mrange\u001b[0m\u001b[0;34m(\u001b[0m\u001b[0;36m0\u001b[0m\u001b[0;34m,\u001b[0m \u001b[0mnum_iterations\u001b[0m \u001b[0;34m+\u001b[0m \u001b[0;36m1\u001b[0m\u001b[0;34m,\u001b[0m \u001b[0meval_interval\u001b[0m\u001b[0;34m)\u001b[0m\u001b[0;34m\u001b[0m\u001b[0;34m\u001b[0m\u001b[0m\n\u001b[0;32m----> 2\u001b[0;31m \u001b[0mplt\u001b[0m\u001b[0;34m.\u001b[0m\u001b[0mplot\u001b[0m\u001b[0;34m(\u001b[0m\u001b[0miterations\u001b[0m\u001b[0;34m,\u001b[0m \u001b[0mreturns\u001b[0m\u001b[0;34m)\u001b[0m\u001b[0;34m\u001b[0m\u001b[0;34m\u001b[0m\u001b[0m\n\u001b[0m\u001b[1;32m      3\u001b[0m \u001b[0mplt\u001b[0m\u001b[0;34m.\u001b[0m\u001b[0mylabel\u001b[0m\u001b[0;34m(\u001b[0m\u001b[0;34m'Average Return'\u001b[0m\u001b[0;34m)\u001b[0m\u001b[0;34m\u001b[0m\u001b[0;34m\u001b[0m\u001b[0m\n\u001b[1;32m      4\u001b[0m \u001b[0mplt\u001b[0m\u001b[0;34m.\u001b[0m\u001b[0mxlabel\u001b[0m\u001b[0;34m(\u001b[0m\u001b[0;34m'Iterations'\u001b[0m\u001b[0;34m)\u001b[0m\u001b[0;34m\u001b[0m\u001b[0;34m\u001b[0m\u001b[0m\n",
            "\u001b[0;32m/usr/local/lib/python3.7/dist-packages/matplotlib/pyplot.py\u001b[0m in \u001b[0;36mplot\u001b[0;34m(scalex, scaley, data, *args, **kwargs)\u001b[0m\n\u001b[1;32m   2761\u001b[0m     return gca().plot(\n\u001b[1;32m   2762\u001b[0m         *args, scalex=scalex, scaley=scaley, **({\"data\": data} if data\n\u001b[0;32m-> 2763\u001b[0;31m         is not None else {}), **kwargs)\n\u001b[0m\u001b[1;32m   2764\u001b[0m \u001b[0;34m\u001b[0m\u001b[0m\n\u001b[1;32m   2765\u001b[0m \u001b[0;34m\u001b[0m\u001b[0m\n",
            "\u001b[0;32m/usr/local/lib/python3.7/dist-packages/matplotlib/axes/_axes.py\u001b[0m in \u001b[0;36mplot\u001b[0;34m(self, scalex, scaley, data, *args, **kwargs)\u001b[0m\n\u001b[1;32m   1645\u001b[0m         \"\"\"\n\u001b[1;32m   1646\u001b[0m         \u001b[0mkwargs\u001b[0m \u001b[0;34m=\u001b[0m \u001b[0mcbook\u001b[0m\u001b[0;34m.\u001b[0m\u001b[0mnormalize_kwargs\u001b[0m\u001b[0;34m(\u001b[0m\u001b[0mkwargs\u001b[0m\u001b[0;34m,\u001b[0m \u001b[0mmlines\u001b[0m\u001b[0;34m.\u001b[0m\u001b[0mLine2D\u001b[0m\u001b[0;34m)\u001b[0m\u001b[0;34m\u001b[0m\u001b[0;34m\u001b[0m\u001b[0m\n\u001b[0;32m-> 1647\u001b[0;31m         \u001b[0mlines\u001b[0m \u001b[0;34m=\u001b[0m \u001b[0;34m[\u001b[0m\u001b[0;34m*\u001b[0m\u001b[0mself\u001b[0m\u001b[0;34m.\u001b[0m\u001b[0m_get_lines\u001b[0m\u001b[0;34m(\u001b[0m\u001b[0;34m*\u001b[0m\u001b[0margs\u001b[0m\u001b[0;34m,\u001b[0m \u001b[0mdata\u001b[0m\u001b[0;34m=\u001b[0m\u001b[0mdata\u001b[0m\u001b[0;34m,\u001b[0m \u001b[0;34m**\u001b[0m\u001b[0mkwargs\u001b[0m\u001b[0;34m)\u001b[0m\u001b[0;34m]\u001b[0m\u001b[0;34m\u001b[0m\u001b[0;34m\u001b[0m\u001b[0m\n\u001b[0m\u001b[1;32m   1648\u001b[0m         \u001b[0;32mfor\u001b[0m \u001b[0mline\u001b[0m \u001b[0;32min\u001b[0m \u001b[0mlines\u001b[0m\u001b[0;34m:\u001b[0m\u001b[0;34m\u001b[0m\u001b[0;34m\u001b[0m\u001b[0m\n\u001b[1;32m   1649\u001b[0m             \u001b[0mself\u001b[0m\u001b[0;34m.\u001b[0m\u001b[0madd_line\u001b[0m\u001b[0;34m(\u001b[0m\u001b[0mline\u001b[0m\u001b[0;34m)\u001b[0m\u001b[0;34m\u001b[0m\u001b[0;34m\u001b[0m\u001b[0m\n",
            "\u001b[0;32m/usr/local/lib/python3.7/dist-packages/matplotlib/axes/_base.py\u001b[0m in \u001b[0;36m__call__\u001b[0;34m(self, *args, **kwargs)\u001b[0m\n\u001b[1;32m    214\u001b[0m                 \u001b[0mthis\u001b[0m \u001b[0;34m+=\u001b[0m \u001b[0margs\u001b[0m\u001b[0;34m[\u001b[0m\u001b[0;36m0\u001b[0m\u001b[0;34m]\u001b[0m\u001b[0;34m,\u001b[0m\u001b[0;34m\u001b[0m\u001b[0;34m\u001b[0m\u001b[0m\n\u001b[1;32m    215\u001b[0m                 \u001b[0margs\u001b[0m \u001b[0;34m=\u001b[0m \u001b[0margs\u001b[0m\u001b[0;34m[\u001b[0m\u001b[0;36m1\u001b[0m\u001b[0;34m:\u001b[0m\u001b[0;34m]\u001b[0m\u001b[0;34m\u001b[0m\u001b[0;34m\u001b[0m\u001b[0m\n\u001b[0;32m--> 216\u001b[0;31m             \u001b[0;32myield\u001b[0m \u001b[0;32mfrom\u001b[0m \u001b[0mself\u001b[0m\u001b[0;34m.\u001b[0m\u001b[0m_plot_args\u001b[0m\u001b[0;34m(\u001b[0m\u001b[0mthis\u001b[0m\u001b[0;34m,\u001b[0m \u001b[0mkwargs\u001b[0m\u001b[0;34m)\u001b[0m\u001b[0;34m\u001b[0m\u001b[0;34m\u001b[0m\u001b[0m\n\u001b[0m\u001b[1;32m    217\u001b[0m \u001b[0;34m\u001b[0m\u001b[0m\n\u001b[1;32m    218\u001b[0m     \u001b[0;32mdef\u001b[0m \u001b[0mget_next_color\u001b[0m\u001b[0;34m(\u001b[0m\u001b[0mself\u001b[0m\u001b[0;34m)\u001b[0m\u001b[0;34m:\u001b[0m\u001b[0;34m\u001b[0m\u001b[0;34m\u001b[0m\u001b[0m\n",
            "\u001b[0;32m/usr/local/lib/python3.7/dist-packages/matplotlib/axes/_base.py\u001b[0m in \u001b[0;36m_plot_args\u001b[0;34m(self, tup, kwargs)\u001b[0m\n\u001b[1;32m    340\u001b[0m \u001b[0;34m\u001b[0m\u001b[0m\n\u001b[1;32m    341\u001b[0m         \u001b[0;32mif\u001b[0m \u001b[0mx\u001b[0m\u001b[0;34m.\u001b[0m\u001b[0mshape\u001b[0m\u001b[0;34m[\u001b[0m\u001b[0;36m0\u001b[0m\u001b[0;34m]\u001b[0m \u001b[0;34m!=\u001b[0m \u001b[0my\u001b[0m\u001b[0;34m.\u001b[0m\u001b[0mshape\u001b[0m\u001b[0;34m[\u001b[0m\u001b[0;36m0\u001b[0m\u001b[0;34m]\u001b[0m\u001b[0;34m:\u001b[0m\u001b[0;34m\u001b[0m\u001b[0;34m\u001b[0m\u001b[0m\n\u001b[0;32m--> 342\u001b[0;31m             raise ValueError(f\"x and y must have same first dimension, but \"\n\u001b[0m\u001b[1;32m    343\u001b[0m                              f\"have shapes {x.shape} and {y.shape}\")\n\u001b[1;32m    344\u001b[0m         \u001b[0;32mif\u001b[0m \u001b[0mx\u001b[0m\u001b[0;34m.\u001b[0m\u001b[0mndim\u001b[0m \u001b[0;34m>\u001b[0m \u001b[0;36m2\u001b[0m \u001b[0;32mor\u001b[0m \u001b[0my\u001b[0m\u001b[0;34m.\u001b[0m\u001b[0mndim\u001b[0m \u001b[0;34m>\u001b[0m \u001b[0;36m2\u001b[0m\u001b[0;34m:\u001b[0m\u001b[0;34m\u001b[0m\u001b[0;34m\u001b[0m\u001b[0m\n",
            "\u001b[0;31mValueError\u001b[0m: x and y must have same first dimension, but have shapes (21,) and (3,)"
          ]
        },
        {
          "output_type": "display_data",
          "data": {
            "image/png": "[encoded data removed]",
            "text/plain": [
              "<Figure size 432x288 with 1 Axes>"
            ]
          },
          "metadata": {
            "tags": [],
            "needs_background": "light"
          }
        }
      ]
    },
    {
      "cell_type": "code",
      "metadata": {
        "tags": [],
        "id": "jAmXbEdWXvc6",
        "outputId": "549dc409-3d90-47ad-c2a8-6b6716aad9c7",
        "colab": {
          "base_uri": "https://localhost:8080/"
        }
      },
      "source": [
        "verbose = 1\n",
        "time_step = eval_env.reset()\n",
        "\n",
        "cumulative_reward = time_step.reward.numpy()\n",
        "print('cumulative_reward', cumulative_reward)\n",
        "while not time_step.is_last():\n",
        "    action_step = agent.policy.action(time_step)\n",
        "    #print('action', action_step.action.numpy())\n",
        "    time_step = eval_env.step(action_step.action)\n",
        "    cumulative_reward += time_step.reward.numpy()\n",
        "    #print('observ',time_step.observation.numpy())\n",
        "    print('cumulative_reward', cumulative_reward)\n",
        "print('final_reward', time_step.reward.numpy())\n",
        "verbose = 0    \n"
      ],
      "execution_count": 46,
      "outputs": [
        {
          "output_type": "stream",
          "text": [
            "cumulative_reward [0.]\n",
            "action = 3 _idx = 11\n",
            "SKIP -> ...no position\n",
            "PnL = 0\n",
            "[0.2        0.40000001 0.60000002 0.40000001 0.60000002 0.80000001\n",
            " 1.         0.80000001 0.60000002 0.40000001 0.60000002 0.\n",
            " 0.         0.         0.         0.         0.         0.\n",
            " 0.         0.         0.         0.        ]\n",
            "cumulative_reward [-10.]\n",
            "action = 3 _idx = 12\n",
            "SKIP -> ...no position\n",
            "PnL = 0\n",
            "[0.2        0.40000001 0.60000002 0.40000001 0.60000002 0.80000001\n",
            " 1.         0.80000001 0.60000002 0.40000001 0.60000002 0.40000001\n",
            " 0.         0.         0.         0.         0.         0.\n",
            " 0.         0.         0.         0.        ]\n",
            "cumulative_reward [-20.]\n",
            "action = 1 _idx = 13\n",
            "OPEN LONG -> actionPnl = -2.5, price = 0.20000000298023224\n",
            "PnL = -2.5\n",
            "[0.2        0.40000001 0.60000002 0.40000001 0.60000002 0.80000001\n",
            " 1.         0.80000001 0.60000002 0.40000001 0.60000002 0.40000001\n",
            " 0.2        0.         0.         0.         0.         0.\n",
            " 0.         0.         1.         0.        ]\n",
            "cumulative_reward [-22.5]\n",
            "action = 1 _idx = 14\n",
            "OPEN LONG -> Position Open -> go to Skip\n",
            "SKIP -> actionPnl = -100.0, price = 0.0\n",
            "PnL = -102.5\n",
            "[0.2        0.40000001 0.60000002 0.40000001 0.60000002 0.80000001\n",
            " 1.         0.80000001 0.60000002 0.40000001 0.60000002 0.40000001\n",
            " 0.2        0.         0.         0.         0.         0.\n",
            " 0.         0.         1.         0.        ]\n",
            "cumulative_reward [-122.5]\n",
            "action = 1 _idx = 15\n",
            "OPEN LONG -> Position Open -> go to Skip\n",
            "SKIP -> actionPnl = 100.0, price = 0.20000000298023224\n",
            "PnL = -2.5\n",
            "[0.2        0.40000001 0.60000002 0.40000001 0.60000002 0.80000001\n",
            " 1.         0.80000001 0.60000002 0.40000001 0.60000002 0.40000001\n",
            " 0.2        0.         0.2        0.         0.         0.\n",
            " 0.         0.         1.         0.        ]\n",
            "cumulative_reward [-22.5]\n",
            "action = 1 _idx = 16\n",
            "OPEN LONG -> Position Open -> go to Skip\n",
            "SKIP -> actionPnl = 100.0, price = 0.4000000059604645\n",
            "PnL = 97.5\n",
            "[0.2        0.40000001 0.60000002 0.40000001 0.60000002 0.80000001\n",
            " 1.         0.80000001 0.60000002 0.40000001 0.60000002 0.40000001\n",
            " 0.2        0.         0.2        0.40000001 0.         0.\n",
            " 0.         0.         1.         0.        ]\n",
            "cumulative_reward [77.5]\n",
            "action = 1 _idx = 17\n",
            "OPEN LONG -> Position Open -> go to Skip\n",
            "SKIP -> actionPnl = 100.0, price = 0.6000000238418579\n",
            "PnL = 197.5\n",
            "[0.2        0.40000001 0.60000002 0.40000001 0.60000002 0.80000001\n",
            " 1.         0.80000001 0.60000002 0.40000001 0.60000002 0.40000001\n",
            " 0.2        0.         0.2        0.40000001 0.60000002 0.\n",
            " 0.         0.         1.         0.        ]\n",
            "cumulative_reward [177.5]\n",
            "action = 3 _idx = 18\n",
            "CLOSE -> actionPnl = -102.5, price = 0.4000000059604645\n",
            "PnL = 95.0\n",
            "[0.2        0.40000001 0.60000002 0.40000001 0.60000002 0.80000001\n",
            " 1.         0.80000001 0.60000002 0.40000001 0.60000002 0.40000001\n",
            " 0.2        0.         0.2        0.40000001 0.60000002 0.40000001\n",
            " 0.         0.         0.         0.        ]\n",
            "cumulative_reward [75.]\n",
            "action = 1 _idx = 19\n",
            "OPEN LONG -> actionPnl = -2.5, price = 0.6000000238418579\n",
            "PnL = 92.5\n",
            "[0.2        0.40000001 0.60000002 0.40000001 0.60000002 0.80000001\n",
            " 1.         0.80000001 0.60000002 0.40000001 0.60000002 0.40000001\n",
            " 0.2        0.         0.2        0.40000001 0.60000002 0.40000001\n",
            " 0.60000002 0.         1.         0.        ]\n",
            "cumulative_reward [72.5]\n",
            "action = 3 _idx = 20\n",
            "CLOSE -> actionPnl = 97.5, price = 0.800000011920929\n",
            "PnL = 190.0\n",
            "[0.2        0.40000001 0.60000002 0.40000001 0.60000002 0.80000001\n",
            " 1.         0.80000001 0.60000002 0.40000001 0.60000002 0.40000001\n",
            " 0.2        0.         0.2        0.40000001 0.60000002 0.40000001\n",
            " 0.60000002 0.80000001 0.         0.        ]\n",
            "cumulative_reward [262.5]\n",
            "final_reward [190.]\n"
          ],
          "name": "stdout"
        }
      ]
    },
    {
      "cell_type": "code",
      "metadata": {
        "id": "27a925GrXvc7",
        "outputId": "d1e2b957-429f-47bf-dc52-1f9b6e51aa3c",
        "colab": {
          "base_uri": "https://localhost:8080/",
          "height": 130
        }
      },
      "source": [
        "actions -> 2231131313\n",
        "\n",
        "actions -> 2311111222\n",
        "actions -> 3113133320"
      ],
      "execution_count": 47,
      "outputs": [
        {
          "output_type": "error",
          "ename": "SyntaxError",
          "evalue": "ignored",
          "traceback": [
            "\u001b[0;36m  File \u001b[0;32m\"<ipython-input-47-3c663554c739>\"\u001b[0;36m, line \u001b[0;32m1\u001b[0m\n\u001b[0;31m    actions -> 2231131313\u001b[0m\n\u001b[0m             ^\u001b[0m\n\u001b[0;31mSyntaxError\u001b[0m\u001b[0;31m:\u001b[0m invalid syntax\n"
          ]
        }
      ]
    },
    {
      "cell_type": "code",
      "metadata": {
        "id": "6L0W8gImXvc7",
        "outputId": "7866996a-4224-467e-96c6-a220f4068158",
        "colab": {
          "base_uri": "https://localhost:8080/",
          "height": 232
        }
      },
      "source": [
        "#after 20000 steps\n",
        "final_reward [-210.]\n",
        "final_reward [95.]\n",
        "\n",
        "#after 100000 steps\n",
        "final_reward [390.]\n",
        "final_reward [385.]"
      ],
      "execution_count": 48,
      "outputs": [
        {
          "output_type": "error",
          "ename": "NameError",
          "evalue": "ignored",
          "traceback": [
            "\u001b[0;31m---------------------------------------------------------------------------\u001b[0m",
            "\u001b[0;31mNameError\u001b[0m                                 Traceback (most recent call last)",
            "\u001b[0;32m<ipython-input-48-db7abbe3edf3>\u001b[0m in \u001b[0;36m<module>\u001b[0;34m()\u001b[0m\n\u001b[1;32m      1\u001b[0m \u001b[0;31m#after 20000 steps\u001b[0m\u001b[0;34m\u001b[0m\u001b[0;34m\u001b[0m\u001b[0;34m\u001b[0m\u001b[0m\n\u001b[0;32m----> 2\u001b[0;31m \u001b[0mfinal_reward\u001b[0m \u001b[0;34m[\u001b[0m\u001b[0;34m-\u001b[0m\u001b[0;36m210.\u001b[0m\u001b[0;34m]\u001b[0m\u001b[0;34m\u001b[0m\u001b[0;34m\u001b[0m\u001b[0m\n\u001b[0m\u001b[1;32m      3\u001b[0m \u001b[0mfinal_reward\u001b[0m \u001b[0;34m[\u001b[0m\u001b[0;36m95.\u001b[0m\u001b[0;34m]\u001b[0m\u001b[0;34m\u001b[0m\u001b[0;34m\u001b[0m\u001b[0m\n\u001b[1;32m      4\u001b[0m \u001b[0;34m\u001b[0m\u001b[0m\n\u001b[1;32m      5\u001b[0m \u001b[0;31m#after 100000 steps\u001b[0m\u001b[0;34m\u001b[0m\u001b[0;34m\u001b[0m\u001b[0;34m\u001b[0m\u001b[0m\n",
            "\u001b[0;31mNameError\u001b[0m: name 'final_reward' is not defined"
          ]
        }
      ]
    },
    {
      "cell_type": "code",
      "metadata": {
        "id": "ntJu0NX5Xvc7",
        "outputId": "9a1130a4-8c4f-4e40-a8c8-13ecabc4c29c",
        "colab": {
          "base_uri": "https://localhost:8080/",
          "height": 282
        }
      },
      "source": [
        "pd.Series(time_step.observation.numpy().flatten()).plot()"
      ],
      "execution_count": 49,
      "outputs": [
        {
          "output_type": "execute_result",
          "data": {
            "text/plain": [
              "<matplotlib.axes._subplots.AxesSubplot at 0x7f3c971901d0>"
            ]
          },
          "metadata": {
            "tags": []
          },
          "execution_count": 49
        },
        {
          "output_type": "display_data",
          "data": {
            "image/png": "[encoded data removed]",
            "text/plain": [
              "<Figure size 432x288 with 1 Axes>"
            ]
          },
          "metadata": {
            "tags": [],
            "needs_background": "light"
          }
        }
      ]
    },
    {
      "cell_type": "code",
      "metadata": {
        "id": "t1As6U3aXvc7",
        "outputId": "111f36da-57c8-49a0-8f8c-77818d32edb9",
        "colab": {
          "base_uri": "https://localhost:8080/"
        }
      },
      "source": [
        "tf.config.list_physical_devices('GPU')"
      ],
      "execution_count": 50,
      "outputs": [
        {
          "output_type": "execute_result",
          "data": {
            "text/plain": [
              "[]"
            ]
          },
          "metadata": {
            "tags": []
          },
          "execution_count": 50
        }
      ]
    },
    {
      "cell_type": "code",
      "metadata": {
        "id": "7NPFX4zKXvc7"
      },
      "source": [
        "pa = np.float32(np.array([\n",
        "    [10, 11, 12, 11, 12, 13, 14, 13, 12, 11, 12, 11, 10, 9, 10, 11, 12, 11, 12, 13],\n",
        "    [10, 11, 12, 13, 14, 15, 14, 15, 16, 15, 16, 15, 16, 17, 16, 17, 16,15, 16, 15]\n",
        "    ]))\n",
        "    "
      ],
      "execution_count": 51,
      "outputs": []
    },
    {
      "cell_type": "code",
      "metadata": {
        "id": "Uko4QQSGXvc7",
        "outputId": "a04e7ef8-54ed-4296-99a0-acbc886ec852",
        "colab": {
          "base_uri": "https://localhost:8080/",
          "height": 282
        }
      },
      "source": [
        "pd.Series(pa[0]).plot()\n",
        "#pd.Series(pa[1]).plot()"
      ],
      "execution_count": 52,
      "outputs": [
        {
          "output_type": "execute_result",
          "data": {
            "text/plain": [
              "<matplotlib.axes._subplots.AxesSubplot at 0x7f3c971023d0>"
            ]
          },
          "metadata": {
            "tags": []
          },
          "execution_count": 52
        },
        {
          "output_type": "display_data",
          "data": {
            "image/png": "[encoded data removed]",
            "text/plain": [
              "<Figure size 432x288 with 1 Axes>"
            ]
          },
          "metadata": {
            "tags": [],
            "needs_background": "light"
          }
        }
      ]
    },
    {
      "cell_type": "code",
      "metadata": {
        "id": "nLo_H4xJXvc7",
        "outputId": "00db94de-e17b-4a1c-a3c9-c29463299330",
        "colab": {
          "base_uri": "https://localhost:8080/",
          "height": 282
        }
      },
      "source": [
        "k = Randwalk(20)\n",
        "pd.Series(k).plot()"
      ],
      "execution_count": 53,
      "outputs": [
        {
          "output_type": "execute_result",
          "data": {
            "text/plain": [
              "<matplotlib.axes._subplots.AxesSubplot at 0x7f3c9708d350>"
            ]
          },
          "metadata": {
            "tags": []
          },
          "execution_count": 53
        },
        {
          "output_type": "display_data",
          "data": {
            "image/png": "[encoded data removed]",
            "text/plain": [
              "<Figure size 432x288 with 1 Axes>"
            ]
          },
          "metadata": {
            "tags": [],
            "needs_background": "light"
          }
        }
      ]
    },
    {
      "cell_type": "code",
      "metadata": {
        "id": "9s5JG7jKXvc8",
        "outputId": "1ace528e-3046-418b-bcee-fa1645c963d9",
        "colab": {
          "base_uri": "https://localhost:8080/"
        }
      },
      "source": [
        "np.array(k)"
      ],
      "execution_count": 54,
      "outputs": [
        {
          "output_type": "execute_result",
          "data": {
            "text/plain": [
              "array([10, 11, 12, 11, 10,  9, 10, 11, 10, 11, 12, 11, 12, 13, 14, 13, 14,\n",
              "       13, 12, 13])"
            ]
          },
          "metadata": {
            "tags": []
          },
          "execution_count": 54
        }
      ]
    },
    {
      "cell_type": "code",
      "metadata": {
        "id": "gObNXaDuXvc8"
      },
      "source": [
        ""
      ],
      "execution_count": 54,
      "outputs": []
    }
  ]
}